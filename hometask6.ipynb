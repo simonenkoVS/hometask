{
  "nbformat": 4,
  "nbformat_minor": 0,
  "metadata": {
    "colab": {
      "name": "Добро пожаловать в Colaboratory!",
      "provenance": [],
      "collapsed_sections": []
    },
    "kernelspec": {
      "display_name": "Python 3",
      "name": "python3"
    }
  },
  "cells": [
    {
      "cell_type": "markdown",
      "metadata": {
        "id": "hhjKcAKOerPG"
      },
      "source": [
        "#**Задание**\r\n",
        "1. Оценить ${\\rm E} n(\\xi)$ с помощью МСМС для графа 8х8."
      ]
    },
    {
      "cell_type": "code",
      "metadata": {
        "id": "Bs1dPewZe1jZ"
      },
      "source": [
        "import numpy as np\r\n",
        "import random as rnd\r\n",
        "import matplotlib.pyplot as plt\r\n",
        "\r\n",
        "#пишем следующие функции: проверяем, что данный узел не нарушает условие на граф и проверяем, что граф в целом нам подходит\r\n",
        "def cell_is_good(graph, row, column):\r\n",
        "  if graph[row][column] == 0:\r\n",
        "    return True\r\n",
        "\r\n",
        "  if row > 0 and row < 7 and column > 0 and column < 7:\r\n",
        "    if graph[row+1][column] == 0 and graph[row-1][column] == 0 and graph[row][column-1] == 0 and graph[row][column+1] == 0:\r\n",
        "      return True\r\n",
        "    else:\r\n",
        "      return False\r\n",
        "\r\n",
        "  if row == 0 and column == 0:\r\n",
        "    if graph[row+1][column] == 0 and graph[row][column+1] == 0:\r\n",
        "      return True\r\n",
        "    else:\r\n",
        "      return False\r\n",
        "\r\n",
        "  if row == 0 and column == 7:\r\n",
        "    if graph[row+1][column] == 0 and graph[row][column-1] == 0:\r\n",
        "      return True\r\n",
        "    else:\r\n",
        "      return False\r\n",
        "\r\n",
        "  if row == 7 and column == 0:\r\n",
        "    if graph[row-1][column] == 0 and graph[row][column+1] == 0:\r\n",
        "      return True\r\n",
        "    else:\r\n",
        "      return False\r\n",
        "\r\n",
        "  if row == 7 and column == 7:\r\n",
        "    if graph[row-1][column] == 0 and graph[row][column-1] == 0:\r\n",
        "      return True\r\n",
        "    else:\r\n",
        "      return False\r\n",
        "  \r\n",
        "  if row == 0:\r\n",
        "    if graph[row+1][column] == 0 and graph[row][column+1] == 0 and graph[row][column-1] == 0:\r\n",
        "      return True\r\n",
        "    else:\r\n",
        "      return False\r\n",
        "\r\n",
        "  if row == 7:\r\n",
        "    if graph[row-1][column] == 0 and graph[row][column+1] == 0 and graph[row][column-1] == 0:\r\n",
        "      return True\r\n",
        "    else:\r\n",
        "      return False\r\n",
        "\r\n",
        "  if column == 0:\r\n",
        "    if graph[row+1][column] == 0 and graph[row][column+1] == 0 and graph[row-1][column] == 0:\r\n",
        "      return True\r\n",
        "    else:\r\n",
        "      return False\r\n",
        "\r\n",
        "  if column == 7:\r\n",
        "    if graph[row+1][column] == 0 and graph[row-1][column] == 0 and graph[row][column-1] == 0:\r\n",
        "      return True\r\n",
        "    else:\r\n",
        "      return False\r\n",
        "\r\n",
        "def graph_is_good(graph):\r\n",
        "  for i in range(8):\r\n",
        "    for j in range(8):\r\n",
        "      if not cell_is_good(graph, i, j):\r\n",
        "        return False\r\n",
        "\r\n",
        "  return True\r\n",
        "\r\n",
        "#теперь хотим уметь строить по графу \"близкие\" к нему и случайным образом выбирать из них следующий (близкий граф строим так: меняем одну ячейку старого графа. Если полученный граф \r\n",
        "#подходит, добавляем его в последовательность. Далее случайным образом выбираем из них новый граф.\r\n",
        "#здесь близкие графы суть соседние города из задачи-примера\r\n",
        "\r\n",
        "def next_graph(graph):\r\n",
        "  sequence = []\r\n",
        "  new_graph = graph.copy()\r\n",
        "\r\n",
        "  for i in range(8):\r\n",
        "    for j in range(8):\r\n",
        "      new_graph[i][j] = abs(graph[i][j] - 1)\r\n",
        "      \r\n",
        "      if graph_is_good(new_graph):\r\n",
        "        sequence.append(new_graph.copy())\r\n",
        "\r\n",
        "      new_graph[i][j] = abs(new_graph[i][j] - 1)\r\n",
        "\r\n",
        "  new_graph = rnd.choice(sequence)\r\n",
        "  return new_graph, len(sequence)\r\n",
        "\r\n",
        "def chain_step(graph):\r\n",
        "  graph1, len1 = next_graph(graph)\r\n",
        "  graph2, len2 = next_graph(graph1)\r\n",
        "\r\n",
        "  q = min(1, len1/len2)\r\n",
        "\r\n",
        "  bound = np.random.choice(np.array([0,1]), p=[1-q, q])\r\n",
        "  if bound == 0:\r\n",
        "    return graph\r\n",
        "\r\n",
        "  return graph1"
      ],
      "execution_count": 80,
      "outputs": []
    },
    {
      "cell_type": "code",
      "metadata": {
        "id": "6clq1G2n9xTJ",
        "outputId": "fa22f999-c809-4c1a-9ebc-554d2a6f16cc",
        "colab": {
          "base_uri": "https://localhost:8080/",
          "height": 265
        }
      },
      "source": [
        "graph = np.zeros(64).reshape([8,8])\r\n",
        "sum = 0\r\n",
        "sequence = []\r\n",
        "\r\n",
        "for i in range(1000):\r\n",
        "  graph = chain_step(graph)\r\n",
        "  sum = np.sum(graph)\r\n",
        "  sequence.append(sum)\r\n",
        "\r\n",
        "plt.hist(sequence, bins = np.arange(33)-0.5, width = 0.7, alpha = 0.7, color = \"orange\")\r\n",
        "plt.show()\r\n",
        "\r\n",
        "print(\"Оценка среднего числа черных вершин -- 15\")"
      ],
      "execution_count": 49,
      "outputs": [
        {
          "output_type": "display_data",
          "data": {
            "image/png": "[encoded data removed]",
            "text/plain": [
              "<Figure size 432x288 with 1 Axes>"
            ]
          },
          "metadata": {
            "tags": [],
            "needs_background": "light"
          }
        }
      ]
    },
    {
      "cell_type": "markdown",
      "metadata": {
        "id": "hesosoydfrsQ"
      },
      "source": [
        "\r\n",
        "2. Обосновать численно и графически стационарность."
      ]
    },
    {
      "cell_type": "code",
      "metadata": {
        "id": "-v2w1jGiEZ10",
        "outputId": "bbcb61d0-fda3-40e9-9682-16340d851435",
        "colab": {
          "base_uri": "https://localhost:8080/",
          "height": 282
        }
      },
      "source": [
        "for i in range(10000):\r\n",
        "  graph = chain_step(graph)\r\n",
        "  sum = np.sum(graph)\r\n",
        "  sequence.append(sum)\r\n",
        "\r\n",
        "plt.hist(sequence, bins = np.arange(33)-0.5, width = 0.7, alpha = 0.7, color = \"orange\")\r\n",
        "plt.show()\r\n",
        "\r\n",
        "print(\"Среднего значения черных вершин -- \", np.mean(sequence))"
      ],
      "execution_count": 50,
      "outputs": [
        {
          "output_type": "display_data",
          "data": {
            "image/png": "[encoded data removed]",
            "text/plain": [
              "<Figure size 432x288 with 1 Axes>"
            ]
          },
          "metadata": {
            "tags": [],
            "needs_background": "light"
          }
        },
        {
          "output_type": "stream",
          "text": [
            "Оценка среднего значения черных вершин --  15.223\n"
          ],
          "name": "stdout"
        }
      ]
    },
    {
      "cell_type": "code",
      "metadata": {
        "id": "7XvqpoubGBoL",
        "outputId": "ba8adc93-54ed-4df2-9dc6-8ef1fa6cba7b",
        "colab": {
          "base_uri": "https://localhost:8080/",
          "height": 282
        }
      },
      "source": [
        "plt.plot(sequence)\r\n",
        "plt.plot(np.arange(11000), 15*np.ones(11000), 'r--')\r\n",
        "plt.xlabel(\"ШАГ\")\r\n",
        "plt.ylabel(\"ЧЕРНЫЕ ВЕРШИНЫ\")\r\n",
        "plt.show()"
      ],
      "execution_count": 53,
      "outputs": [
        {
          "output_type": "display_data",
          "data": {
            "image/png": "[encoded data removed]",
            "text/plain": [
              "<Figure size 432x288 with 1 Axes>"
            ]
          },
          "metadata": {
            "tags": [],
            "needs_background": "light"
          }
        }
      ]
    },
    {
      "cell_type": "markdown",
      "metadata": {
        "id": "UcqzlFMCIGue"
      },
      "source": [
        "Видно, что после увеличения числа шагов, среднее значение черных вершин близко к оценке -- 15. Также на втором графике видно, что  с ростом числа шагов последовательность действительно стабилизируется около 15."
      ]
    },
    {
      "cell_type": "markdown",
      "metadata": {
        "id": "F1wkZcuDfsdA"
      },
      "source": [
        "\r\n",
        "3. Построить график распределения $n(\\xi)$."
      ]
    },
    {
      "cell_type": "code",
      "metadata": {
        "id": "S18KFPbRIzjX",
        "outputId": "80c5b67a-5b56-47ba-8d03-ff18a877be8e",
        "colab": {
          "base_uri": "https://localhost:8080/",
          "height": 265
        }
      },
      "source": [
        "x_axis = np.zeros(30)\r\n",
        "counter = 0\r\n",
        "\r\n",
        "for i in range (30):\r\n",
        "    for j in range (11000):\r\n",
        "        if i == sequence[j]:\r\n",
        "            counter += 1\r\n",
        "    x_axis[i] = counter\r\n",
        "    counter = 0\r\n",
        "\r\n",
        "final = np.zeros(30)\r\n",
        "final[0] = x_axis[0]\r\n",
        "\r\n",
        "for i in range (1,30):\r\n",
        "    final[i] = x_axis[i]+final[i-1]\r\n",
        "\r\n",
        "final = final.astype(int) / 11000\r\n",
        "plt.bar(np.arange(30), final)\r\n",
        "plt.plot(np.arange(30),final, 'r--')\r\n",
        "plt.show()"
      ],
      "execution_count": 58,
      "outputs": [
        {
          "output_type": "display_data",
          "data": {
            "image/png": "[encoded data removed]",
            "text/plain": [
              "<Figure size 432x288 with 1 Axes>"
            ]
          },
          "metadata": {
            "tags": [],
            "needs_background": "light"
          }
        }
      ]
    },
    {
      "cell_type": "markdown",
      "metadata": {
        "id": "AI3ns7_ufsE2"
      },
      "source": [
        "4. Изобразить раскраску для одного из случайных графов, взятых из стационарного распределения."
      ]
    },
    {
      "cell_type": "code",
      "metadata": {
        "id": "ZPNxwZQYfiaw",
        "outputId": "b8e83ca8-ae48-46fb-cf8f-76000ef52edc",
        "colab": {
          "base_uri": "https://localhost:8080/",
          "height": 398
        }
      },
      "source": [
        "print(graph)\r\n",
        "\r\n",
        "for i in range(8):\r\n",
        "  plt.plot(np.arange(8), i*np.ones(8), 'r--', alpha = 0.7)\r\n",
        "  plt.plot(i*np.ones(8), np.arange(8), 'r--', alpha = 0.7)\r\n",
        "  for k in range(8):\r\n",
        "    if graph[i][k] == 1:\r\n",
        "      plt.plot(k,7-i, 'o', color = 'black', ms = 9)\r\n",
        "    else:\r\n",
        "      plt.plot(k,7-i, 'bo', color = 'orange', ms = 9)\r\n",
        "plt.show()"
      ],
      "execution_count": 79,
      "outputs": [
        {
          "output_type": "stream",
          "text": [
            "[[0. 1. 0. 0. 1. 0. 0. 0.]\n",
            " [1. 0. 1. 0. 0. 0. 0. 1.]\n",
            " [0. 0. 0. 0. 0. 0. 0. 0.]\n",
            " [1. 0. 0. 1. 0. 1. 0. 0.]\n",
            " [0. 1. 0. 0. 1. 0. 1. 0.]\n",
            " [0. 0. 1. 0. 0. 1. 0. 1.]\n",
            " [1. 0. 0. 0. 1. 0. 1. 0.]\n",
            " [0. 0. 1. 0. 0. 1. 0. 1.]]\n"
          ],
          "name": "stdout"
        },
        {
          "output_type": "display_data",
          "data": {
            "image/png": "[encoded data removed]",
            "text/plain": [
              "<Figure size 432x288 with 1 Axes>"
            ]
          },
          "metadata": {
            "tags": [],
            "needs_background": "light"
          }
        }
      ]
    },
    {
      "cell_type": "markdown",
      "metadata": {
        "id": "y1uNZnJeNtYO"
      },
      "source": [
        "Черные точки соответствуют черным вершинам (единицам), а оранжевые -- белым (нулям)."
      ]
    }
  ]
}