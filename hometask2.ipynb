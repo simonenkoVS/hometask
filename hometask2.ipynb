{
  "nbformat": 4,
  "nbformat_minor": 0,
  "metadata": {
    "colab": {
      "name": "Добро пожаловать в Colaboratory!",
      "provenance": [],
      "collapsed_sections": []
    },
    "kernelspec": {
      "display_name": "Python 3",
      "name": "python3"
    }
  },
  "cells": [
    {
      "cell_type": "markdown",
      "metadata": {
        "id": "WTd1HWYk7OVP"
      },
      "source": [
        "Создайте двумерный массив 10x3, заполненный случайными значениями. В каждой строке выберите значение, наиболее близкое к 0.5."
      ]
    },
    {
      "cell_type": "code",
      "metadata": {
        "id": "kcAFjuBu7SH5",
        "outputId": "362c759b-0553-416c-a2dd-7baad1873f7e",
        "colab": {
          "base_uri": "https://localhost:8080/"
        }
      },
      "source": [
        "import numpy as np\n",
        "a = np.random.random((10,3))\n",
        "print(a)\n",
        "print(\"RESULT: \", a[np.arange(10), np.argmin(abs(a - 0.5), axis = 1)])"
      ],
      "execution_count": 377,
      "outputs": [
        {
          "output_type": "stream",
          "text": [
            "[[5.56668549e-01 5.65928892e-01 9.61729912e-01]\n",
            " [9.81596188e-01 6.67509250e-01 2.99021044e-01]\n",
            " [1.89796554e-01 6.77932806e-01 5.80188610e-01]\n",
            " [2.25442952e-01 3.65963958e-02 2.96910127e-01]\n",
            " [3.83653151e-01 6.99684829e-01 1.95447667e-01]\n",
            " [5.78941247e-01 7.42870820e-01 9.64881171e-01]\n",
            " [5.99114161e-02 1.19224133e-01 9.15306908e-01]\n",
            " [7.41080462e-01 1.01761118e-01 1.77155512e-01]\n",
            " [5.78436195e-01 3.41606595e-01 9.41703720e-04]\n",
            " [6.70949116e-01 4.66221913e-01 2.53415626e-01]]\n",
            "RESULT:  [0.55666855 0.66750925 0.58018861 0.29691013 0.38365315 0.57894125\n",
            " 0.11922413 0.74108046 0.57843619 0.46622191]\n"
          ],
          "name": "stdout"
        }
      ]
    },
    {
      "cell_type": "markdown",
      "metadata": {
        "id": "z3BmWDWL7Udi"
      },
      "source": [
        "Создайте двумерный массив 6x6, заполненный случайными значениями. Затем сумму по каждой строке поделите на минимальный элемент из столбца с тем же индексом."
      ]
    },
    {
      "cell_type": "code",
      "metadata": {
        "id": "7v5yocwJ7WyB",
        "outputId": "f2c1fbdd-1fb4-4800-94bd-5d264cdfa10f",
        "colab": {
          "base_uri": "https://localhost:8080/"
        }
      },
      "source": [
        "a = np.random.random((6, 6))\n",
        "print(a)\n",
        "print(\"RESULT: \", np.sum(a, axis = 1) / np.min(a, axis = 0))"
      ],
      "execution_count": 378,
      "outputs": [
        {
          "output_type": "stream",
          "text": [
            "[[0.95666048 0.08478148 0.75024283 0.87367559 0.54055433 0.17806461]\n",
            " [0.47278612 0.59333623 0.42958282 0.36268539 0.85003649 0.33199606]\n",
            " [0.10588939 0.20634894 0.45346023 0.64163576 0.06457916 0.83882578]\n",
            " [0.61485578 0.73583094 0.62758692 0.02963633 0.27799249 0.23368598]\n",
            " [0.17939026 0.35698323 0.93835559 0.92617223 0.99605639 0.07422956]\n",
            " [0.52004083 0.89094315 0.99526923 0.03539947 0.85477592 0.50930749]]\n",
            "RESULT:  [31.95768038 35.86187936  5.37903091 85.01688242 53.75088641 51.26981866]\n"
          ],
          "name": "stdout"
        }
      ]
    },
    {
      "cell_type": "markdown",
      "metadata": {
        "id": "YeqmCH0F7Y54"
      },
      "source": [
        "На примере массива x = np.array([6, 2, 0, 3, 0, 0, 5, 7, 0]) найдите максимальный элемент в массиве среди элементов, перед которыми стоит ноль."
      ]
    },
    {
      "cell_type": "code",
      "metadata": {
        "id": "v5LJrpiW7bKm",
        "outputId": "0c413c96-a7b8-48e6-824c-a38ab1d87293",
        "colab": {
          "base_uri": "https://localhost:8080/"
        }
      },
      "source": [
        "x = np.array([6,2,0,3,0,0,5,7,0])\n",
        "print(x)\n",
        "print(\"RESULT: \", np.max(np.array([x[i] for i in np.arange(1, len(x)) if (x[i - 1] == 0)])))"
      ],
      "execution_count": 379,
      "outputs": [
        {
          "output_type": "stream",
          "text": [
            "[6 2 0 3 0 0 5 7 0]\n",
            "RESULT:  5\n"
          ],
          "name": "stdout"
        }
      ]
    },
    {
      "cell_type": "markdown",
      "metadata": {
        "id": "OIjUZUNZ7dcG"
      },
      "source": [
        "Пусть заданы два массива x = np.ones(10) и i = np.array([0, 1, 2, 3, 5, 5, 5, 8]). Прибавьте единицу к тем элементам массива x, индексы которых указаны в массиве i. В случае, если некоторый индекс встретился в массиве i несколько раз, прибавьте к соответствующему элементу массива x число вхождений данного индекса в массив i."
      ]
    },
    {
      "cell_type": "code",
      "metadata": {
        "id": "gOx9EfW57fU8",
        "outputId": "0345cd38-2a7a-4cf9-f604-8e692395d70b",
        "colab": {
          "base_uri": "https://localhost:8080/"
        }
      },
      "source": [
        "x = np.ones(10)\n",
        "i = np.array([0,1,2,3,5,5,5,8])\n",
        "x[i]+=np.bincount(i)[i]\n",
        "print(x)"
      ],
      "execution_count": 380,
      "outputs": [
        {
          "output_type": "stream",
          "text": [
            "[2. 2. 2. 2. 1. 4. 1. 1. 2. 1.]\n"
          ],
          "name": "stdout"
        }
      ]
    },
    {
      "cell_type": "markdown",
      "metadata": {
        "id": "1BGFxLESd1ov"
      },
      "source": [
        "Написать функцию, реализующую алгоритм k-means. Входные и выходные значения функции должны быть аналогичны https://docs.scipy.org/doc/scipy-0.15.1/reference/generated/scipy.cluster.vq.kmeans.html. Функция должна содержать только один цикл while (for)."
      ]
    },
    {
      "cell_type": "code",
      "metadata": {
        "id": "pxtIkxP_d45I"
      },
      "source": [
        "import numpy as np\n",
        "import matplotlib.pyplot as plt\n",
        "\n",
        "def kmeans(obs, number_of_clusters, iter_max=20, dif_dis=1e-05):\n",
        "    dis = 1\n",
        "    iter=0\n",
        "    new_dis = 0\n",
        "    old_dis = 0\n",
        "\n",
        "    data = obs[:,0] + obs[:,1]*1j\n",
        "\n",
        "    centroids = np.array([[data[-5*i] for i in range(0,number_of_clusters)]]) #initial centroids\n",
        "    new_centroids = centroids\n",
        "\n",
        "    while ((dis > dif_dis) and (iter<iter_max)):  \n",
        "         iter+=1      \n",
        "         centroids = new_centroids\n",
        "         clusters = np.argmin(abs(data - centroids.T), axis = 0)\n",
        "\n",
        "         new_centroids.fill(0)\n",
        "         \n",
        "         for i in range(0,clusters.size):\n",
        "             new_centroids[0][clusters[i]]+=data[i]\n",
        "\n",
        "         new_centroids[0] /= np.hstack((np.bincount(clusters), np.ones(number_of_clusters - np.bincount(clusters).size)))\n",
        "\n",
        "         new_dis = np.sum(abs(data - centroids.T[clusters].ravel()))\n",
        "         dis = abs(old_dis - new_dis)\n",
        "         old_dis = new_dis\n",
        "\n",
        "\n",
        "    result = np.ones((number_of_clusters, 2))\n",
        "    result[:,0] = new_centroids.real\n",
        "    result[:,1] = new_centroids.imag\n",
        "    \n",
        "    return (result, new_dis/number_of_clusters)"
      ],
      "execution_count": 375,
      "outputs": []
    },
    {
      "cell_type": "markdown",
      "metadata": {
        "id": "0TZ5Ki3Pd-El"
      },
      "source": [
        "С помощью реализованной функции kmeans выделить кластеры клиентов в разрезах возраст-доход, возрвст-покупательский индекс, доход-покупательский индекс. В каждом случае использовать elbow method для определения оптимального числа кластеров. Визуализировать полученные кластеры (каждый кластер изобразить собственным цветом). Дать интерпретацию полученным кластерам."
      ]
    },
    {
      "cell_type": "code",
      "metadata": {
        "colab": {
          "base_uri": "https://localhost:8080/",
          "height": 879
        },
        "id": "AMaQ952D9Q-1",
        "outputId": "28347c2d-60d4-49ab-c020-5bf4c1e3d825"
      },
      "source": [
        "import matplotlib.pyplot as plt\n",
        "import scipy.cluster\n",
        "\n",
        "url = 'https://raw.githubusercontent.com/sharmaroshan/Clustering-of-Mall-Customers/master/Mall_Customers.csv'\n",
        "data = np.loadtxt(url, delimiter=',', dtype=object, skiprows=1)\n",
        "age_income = data[:, [2,3]]\n",
        "age_income = age_income.astype(float)\n",
        "age_income[:,0] = age_income[:,0] / np.max(age_income[:,0])\n",
        "age_income[:,1] = age_income[:,1] / np.max(age_income[:,1])\n",
        "plt.scatter(age_income[:,0], age_income[:,1])\n",
        "plt.show()\n",
        "\n",
        "dis = np.empty(10)\n",
        "for number in range(0,dis.size):\n",
        "    a, b = kmeans(age_income, number+1)\n",
        "    dis[number] = b\n",
        "\n",
        "plt.plot(np.arange(dis.size), dis)\n",
        "plt.show()\n",
        "\n",
        "number = 4\n",
        "a = kmeans(age_income, number)\n",
        "\n",
        "z = np.array([a[0][:,0] + a[0][:,1]*1j])\n",
        "clusters = np.argmin(abs(age_income[:,0] + age_income[:,1]*1j - z.T), axis = 0)\n",
        "print(clusters)\n",
        "\n",
        "colors = ['red', 'orange', 'blue', 'green', 'black', 'grey']\n",
        "\n",
        "for k in np.arange(number):\n",
        "    if (k < np.bincount(clusters).size):\n",
        "        groups = np.empty((np.bincount(clusters)[k],2))\n",
        "        j=0\n",
        "        for i in np.arange(clusters.size):\n",
        "            if clusters[i] == k:\n",
        "                groups[j,:] = age_income[i,:]\n",
        "                j = j+1\n",
        "        plt.scatter(groups[:,0],groups[:,1], color = colors[k], marker = '+', s = 100, linewidths = 0.1)\n",
        "\n",
        "plt.scatter(a[0][:,0], a[0][:,1], color = 'yellow')\n",
        "plt.xlabel('Age')\n",
        "plt.ylabel('Annual Income')\n",
        "plt.show()"
      ],
      "execution_count": 372,
      "outputs": [
        {
          "output_type": "display_data",
          "data": {
            "image/png": "[encoded data removed]",
            "text/plain": [
              "<Figure size 432x288 with 1 Axes>"
            ]
          },
          "metadata": {
            "tags": [],
            "needs_background": "light"
          }
        },
        {
          "output_type": "display_data",
          "data": {
            "image/png": "[encoded data removed]",
            "text/plain": [
              "<Figure size 432x288 with 1 Axes>"
            ]
          },
          "metadata": {
            "tags": [],
            "needs_background": "light"
          }
        },
        {
          "output_type": "stream",
          "text": [
            "[0 0 0 0 0 0 0 0 2 0 2 0 2 0 0 0 0 0 2 0 0 0 2 0 2 0 2 0 0 0 2 0 2 0 2 0 0\n",
            " 0 0 0 2 0 2 0 2 0 2 0 0 0 2 0 0 2 2 2 2 2 0 2 2 0 2 2 2 0 2 2 0 0 2 2 2 2\n",
            " 2 3 2 3 3 2 2 3 2 2 3 2 2 3 3 2 2 3 2 3 3 3 2 3 2 3 3 2 2 3 2 3 2 2 2 2 2\n",
            " 3 3 3 3 3 2 2 2 2 3 3 3 3 3 3 3 3 2 3 2 3 3 3 3 3 3 3 3 3 2 3 3 3 3 3 2 3\n",
            " 3 3 3 3 3 3 2 3 3 3 3 3 2 3 3 3 1 3 1 3 3 3 1 3 3 3 1 3 2 3 2 1 1 1 1 1 1\n",
            " 1 1 1 1 1 1 1 1 1 1 1 1 1 1 1]\n"
          ],
          "name": "stdout"
        },
        {
          "output_type": "display_data",
          "data": {
            "image/png": "[encoded data removed]",
            "text/plain": [
              "<Figure size 432x288 with 1 Axes>"
            ]
          },
          "metadata": {
            "tags": [],
            "needs_background": "light"
          }
        }
      ]
    },
    {
      "cell_type": "markdown",
      "metadata": {
        "id": "PaNZ2Pf0iFQZ"
      },
      "source": [
        "Годовой доход в целом некоррелирует с возрастом покупателя"
      ]
    },
    {
      "cell_type": "code",
      "metadata": {
        "colab": {
          "base_uri": "https://localhost:8080/",
          "height": 775
        },
        "id": "Mo45kVdnjvL-",
        "outputId": "88fd10a1-eece-461f-8e27-7959f34cdc86"
      },
      "source": [
        "age_score = data[:, [2,4]]\n",
        "age_score = age_score.astype(float)\n",
        "age_score[:,0] = age_score[:,0] / np.max(age_score[:,0])\n",
        "age_score[:,1] = age_score[:,1] / np.max(age_score[:,1])\n",
        "plt.scatter(age_score[:,0], age_score[:,1])\n",
        "plt.show()\n",
        "\n",
        "dis = np.empty(6)\n",
        "for number in range(1,dis.size+1):\n",
        "    a, b = kmeans(age_score, number)\n",
        "    dis[number-1] = b\n",
        "\n",
        "plt.plot(np.arange(dis.size), dis)\n",
        "plt.show()\n",
        "\n",
        "number = 3\n",
        "a = kmeans(age_score, number)\n",
        "\n",
        "z = np.array([a[0][:,0] + a[0][:,1]*1j])\n",
        "\n",
        "clusters = np.argmin(abs(age_score[:,0] + age_score[:,1]*1j - z.T), axis = 0)\n",
        "\n",
        "colors = ['red', 'orange', 'blue', 'green', 'black', 'grey']\n",
        "\n",
        "for k in np.arange(number):\n",
        "    if (k < np.bincount(clusters).size):\n",
        "        groups = np.empty((np.bincount(clusters)[k],2))\n",
        "        j=0\n",
        "        for i in np.arange(clusters.size):\n",
        "            if clusters[i] == k:\n",
        "                groups[j,:] = age_score[i,:]\n",
        "                j = j + 1\n",
        "        plt.scatter(groups[:,0],groups[:,1], color = colors[k], marker = '+', s = 100, linewidths = 0.1)\n",
        "\n",
        "plt.scatter(a[0][:,0], a[0][:,1], color = 'yellow')\n",
        "plt.xlabel('Income')\n",
        "plt.ylabel('Spending score')\n",
        "plt.show()"
      ],
      "execution_count": 373,
      "outputs": [
        {
          "output_type": "display_data",
          "data": {
            "image/png": "[encoded data removed]",
            "text/plain": [
              "<Figure size 432x288 with 1 Axes>"
            ]
          },
          "metadata": {
            "tags": [],
            "needs_background": "light"
          }
        },
        {
          "output_type": "display_data",
          "data": {
            "image/png": "[encoded data removed]",
            "text/plain": [
              "<Figure size 432x288 with 1 Axes>"
            ]
          },
          "metadata": {
            "tags": [],
            "needs_background": "light"
          }
        },
        {
          "output_type": "display_data",
          "data": {
            "image/png": "[encoded data removed]",
            "text/plain": [
              "<Figure size 432x288 with 1 Axes>"
            ]
          },
          "metadata": {
            "tags": [],
            "needs_background": "light"
          }
        }
      ]
    },
    {
      "cell_type": "code",
      "metadata": {
        "colab": {
          "base_uri": "https://localhost:8080/",
          "height": 527
        },
        "id": "nIuCL3B7iiuY",
        "outputId": "cadd3ba7-99b2-4382-c78c-27b3ecfb6016"
      },
      "source": [
        "income_score = data[:, [3,4]]\n",
        "income_score = income_score.astype(float)\n",
        "income_score[:,0] = income_score[:,0] / np.max(income_score[:,0])\n",
        "income_score[:,1] = income_score[:,1] / np.max(income_score[:,1])\n",
        "\n",
        "dis = np.empty(10)\n",
        "for number in range(1,dis.size+1):\n",
        "    a, b = kmeans(income_score, number)\n",
        "    dis[number-1] = b\n",
        "\n",
        "plt.plot(np.arange(dis.size), dis)\n",
        "plt.show()\n",
        "\n",
        "number = 5\n",
        "a = kmeans(age_income, number)\n",
        "\n",
        "z = np.array([a[0][:,0] + a[0][:,1]*1j])\n",
        "\n",
        "clusters = np.argmin(abs(income_score[:,0] + income_score[:,1]*1j - z.T), axis = 0)\n",
        "\n",
        "colors = ['red', 'orange', 'blue', 'green', 'black', 'grey']\n",
        "\n",
        "for k in np.arange(number):\n",
        "    if (k < np.bincount(clusters).size):\n",
        "        groups = np.empty((np.bincount(clusters)[k],2))\n",
        "        j=0\n",
        "        for i in np.arange(clusters.size):\n",
        "            if clusters[i] == k:\n",
        "                groups[j,:] = income_score[i,:]\n",
        "                j = j + 1\n",
        "        plt.scatter(groups[:,0],groups[:,1], color = colors[k], marker = '+', s = 100, linewidths = 0.1)\n",
        "\n",
        "plt.scatter(a[0][:,0], a[0][:,1], color = 'yellow')\n",
        "plt.xlabel('Income')\n",
        "plt.ylabel('Spending score')\n",
        "plt.show()"
      ],
      "execution_count": 376,
      "outputs": [
        {
          "output_type": "display_data",
          "data": {
            "image/png": "[encoded data removed]",
            "text/plain": [
              "<Figure size 432x288 with 1 Axes>"
            ]
          },
          "metadata": {
            "tags": [],
            "needs_background": "light"
          }
        },
        {
          "output_type": "display_data",
          "data": {
            "image/png": "[encoded data removed]",
            "text/plain": [
              "<Figure size 432x288 with 1 Axes>"
            ]
          },
          "metadata": {
            "tags": [],
            "needs_background": "light"
          }
        }
      ]
    }
  ]
}