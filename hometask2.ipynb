{
  "nbformat": 4,
  "nbformat_minor": 0,
  "metadata": {
    "colab": {
      "name": "Добро пожаловать в Colaboratory!",
      "provenance": [],
      "collapsed_sections": []
    },
    "kernelspec": {
      "display_name": "Python 3",
      "name": "python3"
    }
  },
  "cells": [
    {
      "cell_type": "markdown",
      "metadata": {
        "id": "SmSKZOltJoui"
      },
      "source": [
        "1. Создайте двумерный массив 10x3, заполненный случайными значениями. В каждой строке выберите значение, наиболее близкое к 0.5."
      ]
    },
    {
      "cell_type": "code",
      "metadata": {
        "id": "n_bI7WHUJjXz",
        "outputId": "3ec7b202-dda8-4bcc-bf33-c864f479cf0f",
        "colab": {
          "base_uri": "https://localhost:8080/"
        }
      },
      "source": [
        "import numpy as np\n",
        "a = np.random.random((10,3))\n",
        "print(a)\n",
        "print(\"RESULT: \", a[np.arange(10), np.argmin(abs(a - 0.5), axis = 1)])"
      ],
      "execution_count": 1,
      "outputs": [
        {
          "output_type": "stream",
          "text": [
            "[[0.95728647 0.95138015 0.15940698]\n",
            " [0.61407168 0.42820738 0.30976212]\n",
            " [0.6597772  0.92762836 0.57187851]\n",
            " [0.39085069 0.75555271 0.6973926 ]\n",
            " [0.19904519 0.63208397 0.456853  ]\n",
            " [0.14195466 0.93433012 0.75698323]\n",
            " [0.15206607 0.33424355 0.23322196]\n",
            " [0.0221466  0.24055479 0.62298175]\n",
            " [0.17447446 0.82893541 0.18529946]\n",
            " [0.55071289 0.49860278 0.17038693]]\n",
            "RESULT:  [0.15940698 0.42820738 0.57187851 0.39085069 0.456853   0.75698323\n",
            " 0.33424355 0.62298175 0.18529946 0.49860278]\n"
          ],
          "name": "stdout"
        }
      ]
    },
    {
      "cell_type": "markdown",
      "metadata": {
        "id": "0Nn-s64qJ7FX"
      },
      "source": [
        "2. Создайте двумерный массив 6x6, заполненный случайными значениями. Затем сумму по каждой строке поделите на минимальный элемент из столбца с тем же индексом."
      ]
    },
    {
      "cell_type": "code",
      "metadata": {
        "id": "-URU0W9cKB37",
        "outputId": "bae5504f-e03e-4f61-e800-a6fe4ffdce45",
        "colab": {
          "base_uri": "https://localhost:8080/"
        }
      },
      "source": [
        "a = np.random.random((6, 6))\n",
        "print(a)\n",
        "print(\"RESULT: \", np.sum(a, axis = 1) / np.min(a, axis = 0))"
      ],
      "execution_count": 4,
      "outputs": [
        {
          "output_type": "stream",
          "text": [
            "[[0.72994897 0.09725398 0.55206529 0.28310416 0.52035115 0.79432403]\n",
            " [0.71368857 0.84528733 0.02557738 0.92167628 0.79587798 0.09372724]\n",
            " [0.58938131 0.37321721 0.84133174 0.37973491 0.50351028 0.21785218]\n",
            " [0.60014962 0.92049709 0.48806878 0.77059582 0.07146975 0.42382813]\n",
            " [0.29523521 0.7980708  0.58928956 0.60652157 0.77352758 0.98772889]\n",
            " [0.16599988 0.58999946 0.71689116 0.22517705 0.05965578 0.57061215]]\n",
            "RESULT:  [ 17.9340349   34.91717988 113.57801589  14.54237557  67.89574363\n",
            "  24.8416094 ]\n"
          ],
          "name": "stdout"
        }
      ]
    },
    {
      "cell_type": "markdown",
      "metadata": {
        "id": "LA3j0rjTKNWC"
      },
      "source": [
        "3. На примере массива x = np.array([6, 2, 0, 3, 0, 0, 5, 7, 0]) найдите максимальный элемент в массиве среди элементов, перед которыми стоит ноль."
      ]
    },
    {
      "cell_type": "code",
      "metadata": {
        "id": "TifPaMrEKS2Z",
        "outputId": "3b62e771-5106-40d0-cbd5-3db18ff613f0",
        "colab": {
          "base_uri": "https://localhost:8080/"
        }
      },
      "source": [
        "x = np.array([6,2,0,3,0,0,5,7,0])\n",
        "print(x)\n",
        "print(\"RESULT: \", np.max(np.array([x[i] for i in np.arange(1, len(x)) if (x[i - 1] == 0)])))"
      ],
      "execution_count": 6,
      "outputs": [
        {
          "output_type": "stream",
          "text": [
            "[6 2 0 3 0 0 5 7 0]\n",
            "RESULT:  5\n"
          ],
          "name": "stdout"
        }
      ]
    },
    {
      "cell_type": "markdown",
      "metadata": {
        "id": "DIB5lsPPKfpC"
      },
      "source": [
        "4. Пусть заданы два массива x = np.ones(10) и i = np.array([0, 1, 2, 3, 5, 5, 5, 8]). Прибавьте единицу к тем элементам массива x, индексы которых указаны в массиве i. В случае, если некоторый индекс встретился в массиве i несколько раз, прибавьте к соответствующему элементу массива x число вхождений данного индекса в массив i."
      ]
    },
    {
      "cell_type": "code",
      "metadata": {
        "id": "rsfmKPnfKnjq",
        "outputId": "517e5738-fa9c-4508-ec6c-bff5855f0d0f",
        "colab": {
          "base_uri": "https://localhost:8080/"
        }
      },
      "source": [
        "x = np.ones(10)\n",
        "i = np.array([0,1,2,3,5,5,5,8])\n",
        "x[i]+=np.bincount(i)[i]\n",
        "print(x)"
      ],
      "execution_count": 18,
      "outputs": [
        {
          "output_type": "stream",
          "text": [
            "[2. 2. 2. 2. 1. 4. 1. 1. 2. 1.]\n"
          ],
          "name": "stdout"
        }
      ]
    }
  ]
}