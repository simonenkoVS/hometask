{
  "nbformat": 4,
  "nbformat_minor": 0,
  "metadata": {
    "colab": {
      "name": "Добро пожаловать в Colaboratory!",
      "provenance": [],
      "collapsed_sections": []
    },
    "kernelspec": {
      "display_name": "Python 3",
      "name": "python3"
    }
  },
  "cells": [
    {
      "cell_type": "markdown",
      "metadata": {
        "id": "34dBpcSuiwlD"
      },
      "source": [
        "Создайте двумерный массив 10x3, заполненный случайными значениями. В каждой строке выберите значение, наиболее близкое к 0.5."
      ]
    },
    {
      "cell_type": "code",
      "metadata": {
        "id": "umoKC8-Wiy-P",
        "outputId": "27e72a1f-6dd9-4832-a240-d2dd9f31522c",
        "colab": {
          "base_uri": "https://localhost:8080/",
          "height": 221
        }
      },
      "source": [
        "import numpy as np\n",
        "\n",
        "a = np.random.random((10,3))\n",
        "print(a)\n",
        "print(\"RESULT: \", a[np.arange(10), np.argmin(abs(a - 0.5), axis = 1)])"
      ],
      "execution_count": 2,
      "outputs": [
        {
          "output_type": "stream",
          "text": [
            "[[0.32053301 0.46016808 0.03829504]\n",
            " [0.46985303 0.13156413 0.73746351]\n",
            " [0.5703398  0.96074247 0.97795517]\n",
            " [0.35967313 0.93128984 0.16829526]\n",
            " [0.06446642 0.53794867 0.13812964]\n",
            " [0.69535739 0.05513064 0.83137073]\n",
            " [0.90875811 0.5757109  0.81879126]\n",
            " [0.44905296 0.17819375 0.95777559]\n",
            " [0.17898055 0.46299185 0.81684982]\n",
            " [0.29025721 0.60290294 0.64694807]]\n",
            "RESULT:  [0.46016808 0.46985303 0.5703398  0.35967313 0.53794867 0.69535739\n",
            " 0.5757109  0.44905296 0.46299185 0.60290294]\n"
          ],
          "name": "stdout"
        }
      ]
    },
    {
      "cell_type": "markdown",
      "metadata": {
        "id": "o63PMo4Pi0IV"
      },
      "source": [
        "Создайте двумерный массив 6x6, заполненный случайными значениями. Затем сумму по каждой строке поделите на минимальный элемент из столбца с тем же индексом."
      ]
    },
    {
      "cell_type": "code",
      "metadata": {
        "id": "f_R1EgQsi2Jw",
        "outputId": "88e20c66-4c59-494d-e3fd-f2e83b42f82b",
        "colab": {
          "base_uri": "https://localhost:8080/",
          "height": 153
        }
      },
      "source": [
        "a = np.random.random((6, 6))\n",
        "print(a)\n",
        "print(\"\\n  RESULT: \", np.sum(a, axis = 1) / np.min(a, axis = 0))"
      ],
      "execution_count": 20,
      "outputs": [
        {
          "output_type": "stream",
          "text": [
            "[[0.68494883 0.71659248 0.31186937 0.08973734 0.22510634 0.19707431]\n",
            " [0.51173329 0.24312195 0.64933806 0.23570247 0.96723173 0.85412986]\n",
            " [0.68516932 0.07972543 0.3342413  0.93007714 0.57290693 0.13506844]\n",
            " [0.96742515 0.4880297  0.16808339 0.46476841 0.05772227 0.14988542]\n",
            " [0.04383974 0.33075919 0.2119013  0.20279518 0.22593156 0.54637243]\n",
            " [0.31334867 0.27301574 0.92047839 0.54119614 0.16939112 0.08629108]]\n",
            "\n",
            "  RESULT:  [50.76053762 43.41472387 16.28470568 25.58482723 27.05367328 26.6970948 ]\n"
          ],
          "name": "stdout"
        }
      ]
    },
    {
      "cell_type": "markdown",
      "metadata": {
        "id": "1Ep89YYVi2U5"
      },
      "source": [
        "На примере массива x = np.array([6, 2, 0, 3, 0, 0, 5, 7, 0]) найдите максимальный элемент в массиве среди элементов, перед которыми стоит ноль."
      ]
    },
    {
      "cell_type": "code",
      "metadata": {
        "id": "PTaPHTDzi4FJ",
        "outputId": "0d497215-2a5c-4ea9-ce6d-2555eb5fb268",
        "colab": {
          "base_uri": "https://localhost:8080/",
          "height": 51
        }
      },
      "source": [
        "x = np.array([6,2,0,3,0,0,5,7,0])\n",
        "print(x)\n",
        "print(\"RESULT: \", np.max(np.array([x[i] for i in np.arange(1, len(x)) if (x[i - 1] == 0)])))"
      ],
      "execution_count": 53,
      "outputs": [
        {
          "output_type": "stream",
          "text": [
            "[6 2 0 3 0 0 5 7 0]\n",
            "RESULT:  5\n"
          ],
          "name": "stdout"
        }
      ]
    },
    {
      "cell_type": "markdown",
      "metadata": {
        "id": "i6RZfujSi4Nq"
      },
      "source": [
        "Пусть заданы два массива x = np.ones(10) и i = np.array([0, 1, 2, 3, 5, 5, 5, 8]). Прибавьте единицу к тем элементам массива x, индексы которых указаны в массиве i. В случае, если некоторый индекс встретился в массиве i несколько раз, прибавьте к соответствующему элементу массива x число вхождений данного индекса в массив i."
      ]
    },
    {
      "cell_type": "code",
      "metadata": {
        "id": "R3BVogeNi6Xr",
        "outputId": "2799cc26-881f-48d7-e8ba-af0041ca1b0d",
        "colab": {
          "base_uri": "https://localhost:8080/",
          "height": 34
        }
      },
      "source": [
        "x = np.ones(10)\n",
        "i = np.array([0,1,2,3,5,5,5,8])\n",
        "\n",
        "for k in i:\n",
        "    x[k]+=1\n",
        "\n",
        "print(x)"
      ],
      "execution_count": 40,
      "outputs": [
        {
          "output_type": "stream",
          "text": [
            "[2. 2. 2. 2. 1. 4. 1. 1. 2. 1.]\n"
          ],
          "name": "stdout"
        }
      ]
    },
    {
      "cell_type": "markdown",
      "metadata": {
        "id": "lOInM6eLi7BD"
      },
      "source": [
        "Написать функцию, реализующую алгоритм k-means. Входные и выходные значения функции должны быть аналогичны https://docs.scipy.org/doc/scipy-0.15.1/reference/generated/scipy.cluster.vq.kmeans.html. Функция должна содержать только один цикл while (for)."
      ]
    },
    {
      "cell_type": "code",
      "metadata": {
        "id": "D9HEw9voi9Z3"
      },
      "source": [
        "import numpy as np\n",
        "\n",
        "def kmeans(obs, number_of_clasters, iter_max=20, distorion_min=1e-05):\n",
        "    distortion = 1. #initial distance\n",
        "    iter=0\n",
        "\n",
        "    centroids = np.array([obs[i] for i in range(0,k)]) #initial centroids\n",
        "    clasters = np.array((k,len(obs)))\n",
        "\n",
        "    while ((delta > delta_min) and (iter<iter_max)):\n",
        "         b = np.argmin(clasters - centroids, axis = 1)\n",
        "         \n",
        "\n",
        "\n",
        "    return 0"
      ],
      "execution_count": 1,
      "outputs": []
    },
    {
      "cell_type": "markdown",
      "metadata": {
        "id": "uxfxlTu9i9jJ"
      },
      "source": [
        "С помощью реализованной функции kmeans выделить кластеры клиентов в разрезах возраст-доход, возраст-покупательский индекс, доход-покупательский индекс. В каждом случае использовать elbow method для определения оптимального числа кластеров. Визуализировать полученные кластеры (каждый кластер изобразить собственным цветом). Дать интерпретацию полученным кластерам."
      ]
    },
    {
      "cell_type": "code",
      "metadata": {
        "id": "8gpyeBXsi_Yf"
      },
      "source": [
        ""
      ],
      "execution_count": null,
      "outputs": []
    }
  ]
}