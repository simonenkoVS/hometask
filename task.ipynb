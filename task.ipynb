{
  "nbformat": 4,
  "nbformat_minor": 0,
  "metadata": {
    "colab": {
      "name": "Копия блокнота \"Добро пожаловать в Colaboratory!\"",
      "provenance": [],
      "collapsed_sections": [],
      "toc_visible": true
    },
    "kernelspec": {
      "display_name": "Python 3",
      "name": "python3"
    }
  },
  "cells": [
    {
      "cell_type": "code",
      "metadata": {
        "id": "i7LCoVDl29R-",
        "colab_type": "code",
        "colab": {}
      },
      "source": [
        "class Test:\n",
        "    @staticmethod\n",
        "    def assert_equals(a, b, *args, **kwargs):\n",
        "        assert a == b\n",
        "        print('Passed')"
      ],
      "execution_count": null,
      "outputs": []
    },
    {
      "cell_type": "markdown",
      "metadata": {
        "id": "wXZbN4283BZR",
        "colab_type": "text"
      },
      "source": [
        "Task1: https://edabit.com/challenge/nyeNvKWdDFKRAk4Da"
      ]
    },
    {
      "cell_type": "code",
      "metadata": {
        "id": "w4JoRy7W2f9p",
        "colab_type": "code",
        "colab": {}
      },
      "source": [
        "def how_many_seconds(hours):\n",
        "    return hours * 60 * 60"
      ],
      "execution_count": null,
      "outputs": []
    },
    {
      "cell_type": "code",
      "metadata": {
        "id": "8U0hOW1C3H2-",
        "colab_type": "code",
        "colab": {
          "base_uri": "https://localhost:8080/",
          "height": 85
        },
        "outputId": "7380fcb7-1fb8-45a9-d3d8-d6de268b6016"
      },
      "source": [
        "Test.assert_equals(how_many_seconds(2), 7200)\n",
        "Test.assert_equals(how_many_seconds(10), 36000)\n",
        "Test.assert_equals(how_many_seconds(24), 86400)\n",
        "Test.assert_equals(how_many_seconds(36), 129600)"
      ],
      "execution_count": null,
      "outputs": [
        {
          "output_type": "stream",
          "text": [
            "Passed\n",
            "Passed\n",
            "Passed\n",
            "Passed\n"
          ],
          "name": "stdout"
        }
      ]
    },
    {
      "cell_type": "markdown",
      "metadata": {
        "id": "nsP47W39TZmw",
        "colab_type": "text"
      },
      "source": [
        "Task2: https://edabit.com/challenge/PNbsQzmDR3CJ9JHkB"
      ]
    },
    {
      "cell_type": "code",
      "metadata": {
        "id": "AlJ8Ww1P_Wu3",
        "colab_type": "code",
        "colab": {}
      },
      "source": [
        "def fact(n):\n",
        "    result = 1\n",
        "    while n > 0:\n",
        "\t\t    result *= n\n",
        "\t\t    n -= 1\n",
        "    return result"
      ],
      "execution_count": null,
      "outputs": []
    },
    {
      "cell_type": "code",
      "metadata": {
        "id": "fFrREbfR_bdt",
        "colab_type": "code",
        "colab": {
          "base_uri": "https://localhost:8080/",
          "height": 136
        },
        "outputId": "f3a28e01-6dcc-4880-c5b5-e7befc473b3f"
      },
      "source": [
        "Test.assert_equals(fact(0), 1)\n",
        "Test.assert_equals(fact(1), 1)\n",
        "Test.assert_equals(fact(2), 2)\n",
        "Test.assert_equals(fact(3), 6)\n",
        "Test.assert_equals(fact(7), 5040)\n",
        "Test.assert_equals(fact(9), 362880)\n",
        "Test.assert_equals(fact(15), 1307674368000)"
      ],
      "execution_count": null,
      "outputs": [
        {
          "output_type": "stream",
          "text": [
            "Passed\n",
            "Passed\n",
            "Passed\n",
            "Passed\n",
            "Passed\n",
            "Passed\n",
            "Passed\n"
          ],
          "name": "stdout"
        }
      ]
    },
    {
      "cell_type": "markdown",
      "metadata": {
        "id": "neInDcKOAbla",
        "colab_type": "text"
      },
      "source": [
        "Task3: https://edabit.com/challenge/R5F99DeuhqYxbGyMM"
      ]
    },
    {
      "cell_type": "code",
      "metadata": {
        "id": "soWWkuBiAgKs",
        "colab_type": "code",
        "colab": {}
      },
      "source": [
        "def word_builder(ltr, pos):\n",
        "    word = \"\"\n",
        "    for i in pos:\n",
        "\t\t    word += ltr[i]\n",
        "    return word"
      ],
      "execution_count": null,
      "outputs": []
    },
    {
      "cell_type": "code",
      "metadata": {
        "id": "tXZV0Ko9A8WN",
        "colab_type": "code",
        "colab": {
          "base_uri": "https://localhost:8080/",
          "height": 102
        },
        "outputId": "66dbfb9b-837c-4725-f296-8d1d34bd6fd9"
      },
      "source": [
        "Test.assert_equals(word_builder([\"g\", \"e\", \"o\"], [1, 0, 2]), 'ego')\n",
        "Test.assert_equals(word_builder([\"e\", \"t\", \"s\", \"t\"], [3, 0, 2, 1]), 'test')\n",
        "Test.assert_equals(word_builder([\"b\", \"e\", \"t\", \"i\", \"d\", \"a\"], [1, 4, 5, 0, 3, 2]), 'edabit')\n",
        "Test.assert_equals(word_builder([\"l\", \"e\", \"h\", \"n\", \"l\", \"c\", \"a\", \"e\", \"g\"], [5, 2, 6, 4, 0, 1, 3, 8, 7]), 'challenge')\n",
        "Test.assert_equals(word_builder([\"s\", \"o\", \"r\", \"t\", \"e\", \"d\"], [0, 1, 2, 3, 4, 5]), 'sorted')"
      ],
      "execution_count": null,
      "outputs": [
        {
          "output_type": "stream",
          "text": [
            "Passed\n",
            "Passed\n",
            "Passed\n",
            "Passed\n",
            "Passed\n"
          ],
          "name": "stdout"
        }
      ]
    },
    {
      "cell_type": "markdown",
      "metadata": {
        "id": "hfaYQ3dFA_VF",
        "colab_type": "text"
      },
      "source": [
        "Task4: https://edabit.com/challenge/JzBLDzrcGCzDjkk5n"
      ]
    },
    {
      "cell_type": "code",
      "metadata": {
        "id": "Ja9zGJhTEuzE",
        "colab_type": "code",
        "colab": {}
      },
      "source": [
        "def encrypt(word):\n",
        "    vowels = {\"a\":\"0\", \"e\":\"1\", \"i\":\"2\", \"o\":\"2\", \"u\":\"3\"}\n",
        "    result = \"\"\n",
        "    for i in reversed(word):\n",
        "\t\t    if i in vowels:\n",
        "\t\t\t\t    result+=vowels[i]\n",
        "\t\t    else:\n",
        "\t\t\t\t    result+=i\n",
        "    result+=\"aca\"\n",
        "    return result"
      ],
      "execution_count": null,
      "outputs": []
    },
    {
      "cell_type": "markdown",
      "metadata": {
        "id": "_E7TP5ak3bY5",
        "colab_type": "text"
      },
      "source": [
        ""
      ]
    },
    {
      "cell_type": "code",
      "metadata": {
        "id": "A5Ex79mXFB3-",
        "colab_type": "code",
        "colab": {
          "base_uri": "https://localhost:8080/",
          "height": 102
        },
        "outputId": "797aab7d-0adf-44b8-dc13-deac743dda5a"
      },
      "source": [
        "Test.assert_equals(encrypt(\"karaca\"), \"0c0r0kaca\")\n",
        "Test.assert_equals(encrypt(\"burak\"), \"k0r3baca\")\n",
        "Test.assert_equals(encrypt(\"banana\"), \"0n0n0baca\")\n",
        "Test.assert_equals(encrypt(\"alpaca\"), \"0c0pl0aca\")\n",
        "Test.assert_equals(encrypt(\"hello\"), \"2ll1haca\")"
      ],
      "execution_count": null,
      "outputs": [
        {
          "output_type": "stream",
          "text": [
            "Passed\n",
            "Passed\n",
            "Passed\n",
            "Passed\n",
            "Passed\n"
          ],
          "name": "stdout"
        }
      ]
    },
    {
      "cell_type": "markdown",
      "metadata": {
        "id": "FurIRxHcSdvl",
        "colab_type": "text"
      },
      "source": [
        "Task5: https://edabit.com/challenge/st8mDxreMcuWxuz8c"
      ]
    },
    {
      "cell_type": "code",
      "metadata": {
        "id": "cAsrZyYjShtG",
        "colab_type": "code",
        "colab": {}
      },
      "source": [
        "def pentagonal(num):\n",
        "    result = 1\n",
        "    prev_layer = 0\n",
        "    while num>1:\n",
        "\t\t    result = result + prev_layer + 5\n",
        "\t\t    prev_layer += 5\n",
        "\t\t    num -= 1\n",
        "    return result"
      ],
      "execution_count": null,
      "outputs": []
    },
    {
      "cell_type": "code",
      "metadata": {
        "id": "wgYRrRnMSlD4",
        "colab_type": "code",
        "colab": {
          "base_uri": "https://localhost:8080/",
          "height": 204
        },
        "outputId": "5099c725-6265-447f-d59e-cfda400fd1bb"
      },
      "source": [
        "Test.assert_equals(pentagonal(1), 1)\n",
        "Test.assert_equals(pentagonal(3), 16)\n",
        "Test.assert_equals(pentagonal(8), 141)\n",
        "Test.assert_equals(pentagonal(10), 226)\n",
        "Test.assert_equals(pentagonal(15), 526)\n",
        "Test.assert_equals(pentagonal(33), 2641)\n",
        "Test.assert_equals(pentagonal(43), 4516)\n",
        "Test.assert_equals(pentagonal(13), 391)\n",
        "Test.assert_equals(pentagonal(50), 6126)\n",
        "Test.assert_equals(pentagonal(62), 9456)\n",
        "Test.assert_equals(pentagonal(21), 1051)"
      ],
      "execution_count": null,
      "outputs": [
        {
          "output_type": "stream",
          "text": [
            "Passed\n",
            "Passed\n",
            "Passed\n",
            "Passed\n",
            "Passed\n",
            "Passed\n",
            "Passed\n",
            "Passed\n",
            "Passed\n",
            "Passed\n",
            "Passed\n"
          ],
          "name": "stdout"
        }
      ]
    }
  ]
}